{
 "cells": [
  {
   "cell_type": "code",
   "execution_count": 1,
   "metadata": {},
   "outputs": [],
   "source": [
    "import pandas as pd\n",
    "import numpy as np"
   ]
  },
  {
   "cell_type": "code",
   "execution_count": 2,
   "metadata": {},
   "outputs": [
    {
     "name": "stdout",
     "output_type": "stream",
     "text": [
      "            id  store_nbr      family  sales  onpromotion\n",
      "date                                                     \n",
      "2013-01-01   0          1  AUTOMOTIVE    0.0            0\n",
      "2013-01-01   1          1   BABY CARE    0.0            0\n",
      "2013-01-01   2          1      BEAUTY    0.0            0\n",
      "2013-01-01   3          1   BEVERAGES    0.0            0\n",
      "2013-01-01   4          1       BOOKS    0.0            0\n"
     ]
    }
   ],
   "source": [
    "df = pd.read_csv(\"train.csv\", parse_dates=[\"date\"], index_col=\"date\")\n",
    "print(df.head())\n"
   ]
  },
  {
   "cell_type": "code",
   "execution_count": 3,
   "metadata": {},
   "outputs": [
    {
     "name": "stdout",
     "output_type": "stream",
     "text": [
      "            store_nbr      family  sales  onpromotion\n",
      "date                                                 \n",
      "2013-01-01          1  AUTOMOTIVE    0.0            0\n",
      "2013-01-01          1   BABY CARE    0.0            0\n",
      "2013-01-01          1      BEAUTY    0.0            0\n",
      "2013-01-01          1   BEVERAGES    0.0            0\n",
      "2013-01-01          1       BOOKS    0.0            0\n"
     ]
    }
   ],
   "source": [
    "df = df.drop(['id'], axis=1)\n",
    "print(df.head())\n"
   ]
  },
  {
   "cell_type": "code",
   "execution_count": 4,
   "metadata": {},
   "outputs": [
    {
     "name": "stdout",
     "output_type": "stream",
     "text": [
      "            store_nbr  sales  onpromotion  family_AUTOMOTIVE  \\\n",
      "date                                                           \n",
      "2013-01-01          1    0.0            0                  1   \n",
      "2013-01-01          1    0.0            0                  0   \n",
      "2013-01-01          1    0.0            0                  0   \n",
      "2013-01-01          1    0.0            0                  0   \n",
      "2013-01-01          1    0.0            0                  0   \n",
      "\n",
      "            family_BABY CARE  family_BEAUTY  family_BEVERAGES  family_BOOKS  \\\n",
      "date                                                                          \n",
      "2013-01-01                 0              0                 0             0   \n",
      "2013-01-01                 1              0                 0             0   \n",
      "2013-01-01                 0              1                 0             0   \n",
      "2013-01-01                 0              0                 1             0   \n",
      "2013-01-01                 0              0                 0             1   \n",
      "\n",
      "            family_BREAD/BAKERY  family_CELEBRATION  ...  family_MAGAZINES  \\\n",
      "date                                                 ...                     \n",
      "2013-01-01                    0                   0  ...                 0   \n",
      "2013-01-01                    0                   0  ...                 0   \n",
      "2013-01-01                    0                   0  ...                 0   \n",
      "2013-01-01                    0                   0  ...                 0   \n",
      "2013-01-01                    0                   0  ...                 0   \n",
      "\n",
      "            family_MEATS  family_PERSONAL CARE  family_PET SUPPLIES  \\\n",
      "date                                                                  \n",
      "2013-01-01             0                     0                    0   \n",
      "2013-01-01             0                     0                    0   \n",
      "2013-01-01             0                     0                    0   \n",
      "2013-01-01             0                     0                    0   \n",
      "2013-01-01             0                     0                    0   \n",
      "\n",
      "            family_PLAYERS AND ELECTRONICS  family_POULTRY  \\\n",
      "date                                                         \n",
      "2013-01-01                               0               0   \n",
      "2013-01-01                               0               0   \n",
      "2013-01-01                               0               0   \n",
      "2013-01-01                               0               0   \n",
      "2013-01-01                               0               0   \n",
      "\n",
      "            family_PREPARED FOODS  family_PRODUCE  \\\n",
      "date                                                \n",
      "2013-01-01                      0               0   \n",
      "2013-01-01                      0               0   \n",
      "2013-01-01                      0               0   \n",
      "2013-01-01                      0               0   \n",
      "2013-01-01                      0               0   \n",
      "\n",
      "            family_SCHOOL AND OFFICE SUPPLIES  family_SEAFOOD  \n",
      "date                                                           \n",
      "2013-01-01                                  0               0  \n",
      "2013-01-01                                  0               0  \n",
      "2013-01-01                                  0               0  \n",
      "2013-01-01                                  0               0  \n",
      "2013-01-01                                  0               0  \n",
      "\n",
      "[5 rows x 36 columns]\n"
     ]
    }
   ],
   "source": [
    "df = df.dropna()\n",
    "df = pd.get_dummies(df, columns=['family'])\n",
    "print(df.head())"
   ]
  },
  {
   "cell_type": "code",
   "execution_count": 5,
   "metadata": {},
   "outputs": [
    {
     "name": "stdout",
     "output_type": "stream",
     "text": [
      "[[1.000000e+00 0.000000e+00 0.000000e+00 ... 0.000000e+00 0.000000e+00\n",
      "  0.000000e+00]\n",
      " [1.000000e+00 0.000000e+00 0.000000e+00 ... 0.000000e+00 0.000000e+00\n",
      "  0.000000e+00]\n",
      " [1.000000e+00 0.000000e+00 0.000000e+00 ... 0.000000e+00 0.000000e+00\n",
      "  0.000000e+00]\n",
      " ...\n",
      " [9.000000e+00 2.419729e+03 1.480000e+02 ... 1.000000e+00 0.000000e+00\n",
      "  0.000000e+00]\n",
      " [9.000000e+00 1.210000e+02 8.000000e+00 ... 0.000000e+00 1.000000e+00\n",
      "  0.000000e+00]\n",
      " [9.000000e+00 1.600000e+01 0.000000e+00 ... 0.000000e+00 0.000000e+00\n",
      "  1.000000e+00]]\n"
     ]
    }
   ],
   "source": [
    "df.fillna(df.mean(), inplace=True)\n",
    "np_data = df.to_numpy()\n",
    "print(np_data)\n"
   ]
  },
  {
   "cell_type": "code",
   "execution_count": 6,
   "metadata": {},
   "outputs": [
    {
     "name": "stdout",
     "output_type": "stream",
     "text": [
      "[[  1.      0.      0.    ...   0.      0.      0.   ]\n",
      " [  1.      0.      0.    ...   0.      0.      0.   ]\n",
      " [  1.      0.      0.    ...   0.      0.      0.   ]\n",
      " ...\n",
      " [ 19.      1.      0.    ...   0.      0.      0.   ]\n",
      " [ 19.    170.509   0.    ...   0.      0.      0.   ]\n",
      " [ 19.    181.      8.    ...   0.      0.      0.   ]]\n",
      "[[1.900000e+01 0.000000e+00 0.000000e+00 ... 0.000000e+00 0.000000e+00\n",
      "  0.000000e+00]\n",
      " [1.900000e+01 4.000000e+00 0.000000e+00 ... 0.000000e+00 0.000000e+00\n",
      "  0.000000e+00]\n",
      " [1.900000e+01 8.568900e+01 0.000000e+00 ... 0.000000e+00 0.000000e+00\n",
      "  0.000000e+00]\n",
      " ...\n",
      " [9.000000e+00 2.419729e+03 1.480000e+02 ... 1.000000e+00 0.000000e+00\n",
      "  0.000000e+00]\n",
      " [9.000000e+00 1.210000e+02 8.000000e+00 ... 0.000000e+00 1.000000e+00\n",
      "  0.000000e+00]\n",
      " [9.000000e+00 1.600000e+01 0.000000e+00 ... 0.000000e+00 0.000000e+00\n",
      "  1.000000e+00]]\n"
     ]
    }
   ],
   "source": [
    "train_data = np_data[:int(0.8 * np_data.shape[0])]\n",
    "test_data = np_data[int(0.8 * np_data.shape[0]):]\n",
    "print(train_data)\n",
    "print(test_data)\n"
   ]
  }
 ],
 "metadata": {
  "kernelspec": {
   "display_name": "Python 3",
   "language": "python",
   "name": "python3"
  },
  "language_info": {
   "codemirror_mode": {
    "name": "ipython",
    "version": 3
   },
   "file_extension": ".py",
   "mimetype": "text/x-python",
   "name": "python",
   "nbconvert_exporter": "python",
   "pygments_lexer": "ipython3",
   "version": "3.10.7"
  },
  "orig_nbformat": 4
 },
 "nbformat": 4,
 "nbformat_minor": 2
}
