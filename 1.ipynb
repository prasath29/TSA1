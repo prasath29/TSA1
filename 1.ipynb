{
 "cells": [
  {
   "cell_type": "code",
   "execution_count": 1,
   "metadata": {},
   "outputs": [],
   "source": [
    "import pandas as pd"
   ]
  },
  {
   "cell_type": "code",
   "execution_count": 2,
   "metadata": {},
   "outputs": [
    {
     "name": "stdout",
     "output_type": "stream",
     "text": [
      "             id  store_nbr      family sales  onpromotion\n",
      "date                                                     \n",
      "2013-01-01  0.0        1.0  AUTOMOTIVE   0.0            0\n",
      "2013-01-01  0.0        1.0   BABY CARE   0.0            0\n",
      "2013-01-01  0.0        1.0      BEAUTY   0.0            0\n",
      "2013-01-01  0.0        1.0   BEVERAGES   0.0            0\n",
      "2013-01-01  0.0        1.0       BOOKS   0.0            0\n"
     ]
    }
   ],
   "source": [
    "df = pd.read_csv(\"train.csv\", parse_dates=[\"date\"], index_col=\"date\")\n",
    "print(df.head())\n"
   ]
  },
  {
   "cell_type": "code",
   "execution_count": 3,
   "metadata": {},
   "outputs": [
    {
     "name": "stdout",
     "output_type": "stream",
     "text": [
      "            store_nbr      family sales  onpromotion\n",
      "date                                                \n",
      "2013-01-01        1.0  AUTOMOTIVE   0.0            0\n",
      "2013-01-01        1.0   BABY CARE   0.0            0\n",
      "2013-01-01        1.0      BEAUTY   0.0            0\n",
      "2013-01-01        1.0   BEVERAGES   0.0            0\n",
      "2013-01-01        1.0       BOOKS   0.0            0\n"
     ]
    }
   ],
   "source": [
    "df = df.drop(['id'], axis=1)\n",
    "print(df.head())\n"
   ]
  },
  {
   "cell_type": "code",
   "execution_count": 4,
   "metadata": {},
   "outputs": [
    {
     "name": "stdout",
     "output_type": "stream",
     "text": [
      "            store_nbr sales  onpromotion  family_AUTOMOTIVE  family_BABY CARE  \\\n",
      "date                                                                            \n",
      "2013-01-01        1.0   0.0            0                  1                 0   \n",
      "2013-01-01        1.0   0.0            0                  0                 1   \n",
      "2013-01-01        1.0   0.0            0                  0                 0   \n",
      "2013-01-01        1.0   0.0            0                  0                 0   \n",
      "2013-01-01        1.0   0.0            0                  0                 0   \n",
      "\n",
      "            family_BEAUTY  family_BEVERAGES  family_BOOKS  \\\n",
      "date                                                        \n",
      "2013-01-01              0                 0             0   \n",
      "2013-01-01              0                 0             0   \n",
      "2013-01-01              1                 0             0   \n",
      "2013-01-01              0                 1             0   \n",
      "2013-01-01              0                 0             1   \n",
      "\n",
      "            family_BREAD/BAKERY  family_CELEBRATION  ...  family_MAGAZINES  \\\n",
      "date                                                 ...                     \n",
      "2013-01-01                    0                   0  ...                 0   \n",
      "2013-01-01                    0                   0  ...                 0   \n",
      "2013-01-01                    0                   0  ...                 0   \n",
      "2013-01-01                    0                   0  ...                 0   \n",
      "2013-01-01                    0                   0  ...                 0   \n",
      "\n",
      "            family_MEATS  family_PERSONAL CARE  family_PET SUPPLIES  \\\n",
      "date                                                                  \n",
      "2013-01-01             0                     0                    0   \n",
      "2013-01-01             0                     0                    0   \n",
      "2013-01-01             0                     0                    0   \n",
      "2013-01-01             0                     0                    0   \n",
      "2013-01-01             0                     0                    0   \n",
      "\n",
      "            family_PLAYERS AND ELECTRONICS  family_POULTRY  \\\n",
      "date                                                         \n",
      "2013-01-01                               0               0   \n",
      "2013-01-01                               0               0   \n",
      "2013-01-01                               0               0   \n",
      "2013-01-01                               0               0   \n",
      "2013-01-01                               0               0   \n",
      "\n",
      "            family_PREPARED FOODS  family_PRODUCE  \\\n",
      "date                                                \n",
      "2013-01-01                      0               0   \n",
      "2013-01-01                      0               0   \n",
      "2013-01-01                      0               0   \n",
      "2013-01-01                      0               0   \n",
      "2013-01-01                      0               0   \n",
      "\n",
      "            family_SCHOOL AND OFFICE SUPPLIES  family_SEAFOOD  \n",
      "date                                                           \n",
      "2013-01-01                                  0               0  \n",
      "2013-01-01                                  0               0  \n",
      "2013-01-01                                  0               0  \n",
      "2013-01-01                                  0               0  \n",
      "2013-01-01                                  0               0  \n",
      "\n",
      "[5 rows x 36 columns]\n"
     ]
    }
   ],
   "source": [
    "df = df.dropna()\n",
    "df = pd.get_dummies(df, columns=['family'])\n",
    "print(df.head())"
   ]
  },
  {
   "cell_type": "code",
   "execution_count": 5,
   "metadata": {},
   "outputs": [
    {
     "name": "stdout",
     "output_type": "stream",
     "text": [
      "[[1.0 '0.0' 0 ... 0 0 0]\n",
      " [1.0 '0.0' 0 ... 0 0 0]\n",
      " [1.0 '0.0' 0 ... 0 0 0]\n",
      " ...\n",
      " [37.0 '0.0' 0 ... 0 0 0]\n",
      " [37.0 '0.0' 0 ... 0 0 0]\n",
      " [37.0 '0.0' 0 ... 0 0 0]]\n"
     ]
    },
    {
     "name": "stderr",
     "output_type": "stream",
     "text": [
      "/tmp/ipykernel_26999/4274532063.py:1: FutureWarning: Dropping of nuisance columns in DataFrame reductions (with 'numeric_only=None') is deprecated; in a future version this will raise TypeError.  Select only valid columns before calling the reduction.\n",
      "  df.fillna(df.mean(), inplace=True)\n"
     ]
    }
   ],
   "source": [
    "df.fillna(df.mean(), inplace=True)\n",
    "np_data = df.to_numpy()\n",
    "print(np_data)\n"
   ]
  },
  {
   "cell_type": "code",
   "execution_count": 6,
   "metadata": {},
   "outputs": [
    {
     "name": "stdout",
     "output_type": "stream",
     "text": [
      "[[1.0 '0.0' 0 ... 0 0 0]\n",
      " [1.0 '0.0' 0 ... 0 0 0]\n",
      " [1.0 '0.0' 0 ... 0 0 0]\n",
      " ...\n",
      " [31.0 '0.0' 0 ... 0 0 0]\n",
      " [31.0 '0.0' 0 ... 0 0 0]\n",
      " [31.0 '0.0' 0 ... 0 0 0]]\n",
      "[[31.0 '0.0' 0 ... 0 0 0]\n",
      " [31.0 '0.0' 0 ... 0 0 0]\n",
      " [31.0 '0.0' 0 ... 0 0 0]\n",
      " ...\n",
      " [37.0 '0.0' 0 ... 0 0 0]\n",
      " [37.0 '0.0' 0 ... 0 0 0]\n",
      " [37.0 '0.0' 0 ... 0 0 0]]\n"
     ]
    }
   ],
   "source": [
    "train_data = np_data[:int(0.8 * np_data.shape[0])]\n",
    "test_data = np_data[int(0.8 * np_data.shape[0]):]\n",
    "print(train_data)\n",
    "print(test_data)\n"
   ]
  }
 ],
 "metadata": {
  "kernelspec": {
   "display_name": "Python 3",
   "language": "python",
   "name": "python3"
  },
  "language_info": {
   "codemirror_mode": {
    "name": "ipython",
    "version": 3
   },
   "file_extension": ".py",
   "mimetype": "text/x-python",
   "name": "python",
   "nbconvert_exporter": "python",
   "pygments_lexer": "ipython3",
   "version": "3.10.6"
  },
  "orig_nbformat": 4
 },
 "nbformat": 4,
 "nbformat_minor": 2
}
